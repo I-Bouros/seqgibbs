{
 "metadata": {
  "language_info": {
   "codemirror_mode": {
    "name": "ipython",
    "version": 3
   },
   "file_extension": ".py",
   "mimetype": "text/x-python",
   "name": "python",
   "nbconvert_exporter": "python",
   "pygments_lexer": "ipython3",
   "version": "3.8.5-final"
  },
  "orig_nbformat": 2,
  "kernelspec": {
   "name": "python3",
   "display_name": "Python 3",
   "language": "python"
  }
 },
 "nbformat": 4,
 "nbformat_minor": 2,
 "cells": [
  {
   "source": [
    "# Comparision of Systematic and Random Scan Gibbs Sampling algorithms"
   ],
   "cell_type": "markdown",
   "metadata": {}
  },
  {
   "source": [
    "We have seen in the previous two tutorials how to run the Gibbs samplers for both the Systematic scan and Random scan regimes. In this notebook we will compare the two approaches, both in terms of _execution time_ and _accuracy_."
   ],
   "cell_type": "markdown",
   "metadata": {}
  },
  {
   "cell_type": "code",
   "execution_count": 1,
   "metadata": {},
   "outputs": [],
   "source": [
    "# Import required libraries\n",
    "import seqgibbs\n",
    "\n",
    "import numpy as np\n",
    "import scipy.stats\n",
    "import matplotlib.pyplot as plt\n",
    "import time"
   ]
  },
  {
   "source": [
    "## Execution time\n",
    "\n",
    "We run 10 times each of the samplers for 200 steps for the same bivariate normal distribution as in the tutorials:\n",
    "\n",
    "Let $X := (X_1,X_2) \\sim N(\\mu, \\Sigma)$ where $\\mu = (\\mu_1, \\mu_2)$ and covariance matrix \n",
    "$\n",
    "\\Sigma = \\begin{pmatrix}\n",
    "\\sigma^2_1 & \\rho \\\\\n",
    "\\rho & \\sigma^2_2\n",
    "\\end{pmatrix}\n",
    "$\n",
    ".\n",
    "\n",
    "\n",
    "\n",
    "The Gibbs sampler proceeds as follows in this case with the following conditional probabilities:\n",
    "\n",
    "(a) Sample $X_1^{(t)} \\sim N (\\mu_1 +\\rho/\\sigma_2^2(X_2^{(t−1)}−\\mu_2), \\sigma_1^2−\\rho^2/\\sigma_2^2)$\n",
    "\n",
    "(b) Sample $X_2^{(t)} \\sim N (\\mu_2 +\\rho/\\sigma_1^2(X_1^{(t)}−\\mu_1), \\sigma_2^2−\\rho^2/\\sigma_1^2)$."
   ],
   "cell_type": "markdown",
   "metadata": {}
  },
  {
   "source": [
    "### Systematic Scan"
   ],
   "cell_type": "markdown",
   "metadata": {}
  },
  {
   "cell_type": "code",
   "execution_count": 3,
   "metadata": {},
   "outputs": [
    {
     "output_type": "stream",
     "name": "stdout",
     "text": [
      "[0.02811474 0.02725153 0.02498692 0.02803746 0.02579652 0.02510296\n 0.02565845 0.02657802 0.0218375  0.02190983]\n"
     ]
    }
   ],
   "source": [
    "# Set correlation coefficient\n",
    "rho = 0.99\n",
    "\n",
    "# Set other parameters of the target distribution\n",
    "mu1, mu2, var1, var2 = (5, 5 , 2, 1)\n",
    "\n",
    "# Create now functions that return the parameters for the unidimensional simulator\n",
    "# for X1 and X2 in terms of the current position.\n",
    "# The sampler has a normal distribution shape so these parameters need\n",
    "# to be the mean and variance of the distribution.\n",
    "def first_fun(x):\n",
    "    return mu1 + rho/var2 *(x - mu2), var1 - rho**2/var2\n",
    "\n",
    "def second_fun(x):\n",
    "    return mu2 + rho/var1 *(x - mu1), var2 - rho**2/var1\n",
    "\n",
    "# Now create the unidimensional samplers for each of the two dimensions X1 and X2\n",
    "first_sampler = seqgibbs.OneDimSampler(scipy.stats.norm.rvs, first_fun)\n",
    "second_sampler = seqgibbs.OneDimSampler(scipy.stats.norm.rvs, second_fun)\n",
    "\n",
    "# Now create wrapper Systematic Scan Gibbs sampler starting at the default position (origin)\n",
    "# to which we then feed the two unidimensional samplers we constructed.\n",
    "sys_sampler = seqgibbs.SysGibbsAlgo(num_dim=2, initial_state=np.array([0, 0]))\n",
    "\n",
    "sys_sampler.add_1_d_sampler(first_sampler)\n",
    "sys_sampler.add_1_d_sampler(second_sampler)\n",
    "\n",
    "sys_times = np.zeros(10)\n",
    "for t, _ in enumerate(sys_times):\n",
    "    start = time.perf_counter()\n",
    "    sys_sampler.run(num_cycles=200)\n",
    "    end = time.perf_counter()\n",
    "    sys_times[t] = end - start"
   ]
  },
  {
   "source": [
    "### Random Scan"
   ],
   "cell_type": "markdown",
   "metadata": {}
  },
  {
   "cell_type": "code",
   "execution_count": 5,
   "metadata": {},
   "outputs": [
    {
     "output_type": "stream",
     "name": "stdout",
     "text": [
      "[0.0247822  0.02129883 0.02051419 0.01939708 0.0178803  0.01883589\n 0.0188401  0.01945978 0.02116241 0.01833729]\n"
     ]
    }
   ],
   "source": [
    "# Now create wrapper Random Scan Gibbs sampler starting at the default position (origin)\n",
    "# and equal probabilty to update either dimension\n",
    "# and to which we then feed the two unidimensional samplers we constructed.\n",
    "rand_sampler = seqgibbs.RandGibbsAlgo(num_dim=2, initial_state=np.array([0, 0]))\n",
    "rand_sampler = seqgibbs.RandGibbsAlgo(num_dim=2, initial_state=np.array([0, 0]))\n",
    "\n",
    "rand_sampler.add_1_d_sampler(first_sampler)\n",
    "rand_sampler.add_1_d_sampler(second_sampler)\n",
    "\n",
    "rand_times = np.zeros(10)\n",
    "for t, _ in enumerate(rand_times):\n",
    "    start = time.perf_counter()\n",
    "    rand_sampler.run(num_cycles=200)\n",
    "    end = time.perf_counter()\n",
    "    rand_times[t] = end - start"
   ]
  },
  {
   "source": [
    "### Comparison"
   ],
   "cell_type": "markdown",
   "metadata": {}
  },
  {
   "cell_type": "code",
   "execution_count": 20,
   "metadata": {},
   "outputs": [
    {
     "output_type": "stream",
     "name": "stdout",
     "text": [
      "      Systematic Scan  Random Scan\n1            0.028115     0.024782\n2            0.027252     0.021299\n3            0.024987     0.020514\n4            0.028037     0.019397\n5            0.025797     0.017880\n6            0.025103     0.018836\n7            0.025658     0.018840\n8            0.026578     0.019460\n9            0.021838     0.021162\n10           0.021910     0.018337\nmean         0.025527     0.020051\n"
     ]
    }
   ],
   "source": [
    "import pandas as pd\n",
    "indices = [str(i) for i in range(1, 11)]\n",
    "indices.append('mean')\n",
    "\n",
    "comparison_time_matrix = pd.DataFrame(\n",
    "    {\n",
    "    \"Systematic Scan\": np.append(sys_times, np.average(sys_times)),\n",
    "    \"Random Scan\": np.append(rand_times, np.average(rand_times))\n",
    "}, index=indices)\n",
    "\n",
    "print(comparison_time_matrix)"
   ]
  },
  {
   "source": [
    "## Accuracy"
   ],
   "cell_type": "markdown",
   "metadata": {}
  }
 ]
}