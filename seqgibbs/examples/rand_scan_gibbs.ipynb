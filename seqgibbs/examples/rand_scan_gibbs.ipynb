{
 "metadata": {
  "language_info": {
   "codemirror_mode": {
    "name": "ipython",
    "version": 3
   },
   "file_extension": ".py",
   "mimetype": "text/x-python",
   "name": "python",
   "nbconvert_exporter": "python",
   "pygments_lexer": "ipython3",
   "version": "3.8.5-final"
  },
  "orig_nbformat": 2,
  "kernelspec": {
   "name": "python3",
   "display_name": "Python 3",
   "language": "python"
  }
 },
 "nbformat": 4,
 "nbformat_minor": 2,
 "cells": [
  {
   "source": [
    "# Random Scan Gibbs Sampling Algorithm\n",
    "\n",
    "The Random Scan Gibbs Sampling Algorithm updates only dimension in the representation of the state, chosen at random, at each update using the current values of the other dimensions of the state like this:\n",
    "\n",
    "\n",
    "### $$ \\mbox{Draw } j \\mbox{ from a distribution on } \\{1, . . . , d\\} \\\\ X_{j}^{(t)} \\sim \\pi_{X_{j}|X_{-j}}(\\cdot|X_{1}^{(t)}, \\dots , X_{j-1}^{(t)}, X_{j+1}^{(t-1)},\\dots X_{d}^{(t-1)})$$\n",
    "\n",
    "In this notebook we will show some of implementations (good and bad examles) of the Random Scan Gibbs Sampling algorithm "
   ],
   "cell_type": "markdown",
   "metadata": {}
  },
  {
   "cell_type": "code",
   "execution_count": 1,
   "metadata": {},
   "outputs": [],
   "source": [
    "# Import required libraries\n",
    "import seqgibbs\n",
    "\n",
    "import numpy as np\n",
    "import scipy.stats\n",
    "import matplotlib.pyplot as plt"
   ]
  },
  {
   "source": [
    "## A good example\n",
    "\n",
    "Let $X := (X_1,X_2) \\sim N(\\mu, \\Sigma)$ where $\\mu = (\\mu_1, \\mu_2)$ and covariance matrix \n",
    "$\n",
    "\\Sigma = \\begin{pmatrix}\n",
    "\\sigma^2_1 & \\rho \\\\\n",
    "\\rho & \\sigma^2_2\n",
    "\\end{pmatrix}\n",
    "$\n",
    ".\n",
    "\n",
    "\n",
    "\n",
    "The Gibbs sampler proceeds as follows in this case with the following conditional probabilities:\n",
    "\n",
    "(a) Sample $X_1^{(t)} \\sim N (\\mu_1 +\\rho/\\sigma_2^2(X_2^{(t−1)}−\\mu_2), \\sigma_1^2−\\rho^2/\\sigma_2^2)$\n",
    "\n",
    "(b) Sample $X_2^{(t)} \\sim N (\\mu_2 +\\rho/\\sigma_1^2(X_1^{(t)}−\\mu_1), \\sigma_2^2−\\rho^2/\\sigma_1^2)$.\n",
    "\n",
    "Firstly, we take the case when the dimesnions of the target distribution are highly correlated, i.e. $\\rho = 0.99$."
   ],
   "cell_type": "markdown",
   "metadata": {}
  },
  {
   "cell_type": "code",
   "execution_count": 2,
   "metadata": {},
   "outputs": [],
   "source": [
    "# Set correlation coefficient\n",
    "rho = 0.99\n",
    "\n",
    "# Set other parameters of the target distribution\n",
    "mu1, mu2, var1, var2 = (5, 5 , 2, 1)\n",
    "\n",
    "# Create now functions that return the parameters for the unidimensional simulator\n",
    "# for X1 and X2 in terms of the current position.\n",
    "# The sampler has a normal distribution shape so these parameters need\n",
    "# to be the mean and variance of the dsitribution.\n",
    "def first_fun(x):\n",
    "    return mu1 + rho/var2 *(x - mu2), var1 - rho**2/var2\n",
    "\n",
    "def second_fun(x):\n",
    "    return mu2 + rho/var1 *(x - mu1), var2 - rho**2/var1\n",
    "\n",
    "# Now create the unidimensional samplers for each of the two dimensions X1 and X2\n",
    "first_sampler = seqgibbs.OneDimSampler(scipy.stats.norm.rvs, first_fun)\n",
    "second_sampler = seqgibbs.OneDimSampler(scipy.stats.norm.rvs, second_fun)\n",
    "\n",
    "# Now create wrapper Random Scan Gibbs sampler starting at the default position (origin)\n",
    "# and to which we then feed the two unidimensional samplers we constructed.\n",
    "rand_sampler = seqgibbs.RandGibbsAlgo(num_dim=2, initial_state=np.array([0, 0]))\n",
    "\n",
    "rand_sampler.add_1_d_sampler(first_sampler)\n",
    "rand_sampler.add_1_d_sampler(second_sampler)\n",
    "\n",
    "# Run 200 complete scan cycles of the algorithm and save the chain\n",
    "chain1 = rand_sampler.run(num_cycles=200)"
   ]
  },
  {
   "cell_type": "code",
   "execution_count": null,
   "metadata": {},
   "outputs": [],
   "source": []
  }
 ]
}